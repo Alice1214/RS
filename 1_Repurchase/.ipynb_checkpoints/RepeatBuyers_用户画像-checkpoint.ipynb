{
 "cells": [
  {
   "cell_type": "markdown",
   "metadata": {
    "colab_type": "text",
    "id": "qc66bhQ3w4gB"
   },
   "source": [
    "# 天猫用户复购预测"
   ]
  },
  {
   "cell_type": "markdown",
   "metadata": {},
   "source": [
    "## 项目背景"
   ]
  },
  {
   "cell_type": "markdown",
   "metadata": {},
   "source": [
    "电商会在双11、黑五等时间进行大量促销活动来吸引买家，然而，很多被吸引的买家都是一次性交易，这些促销对于转换为长期的顾客来说可能收效甚微。为了便于商家识别哪些用户可以成为重复购买的忠实买家，从而降低促销成本，提高投资回报率（ROI），天猫提供了“双11”前6个月和“双11”当天匿名用户的购物日志信息以及是否为重复购买者的标签信息，**目标是对于给定的商家，预测新用户是否能成为忠诚用户，即未来6个月内会购买这个商家的商品。**"
   ]
  },
  {
   "cell_type": "markdown",
   "metadata": {},
   "source": [
    "## 项目分析思维导图"
   ]
  },
  {
   "cell_type": "markdown",
   "metadata": {},
   "source": [
    "图片"
   ]
  },
  {
   "cell_type": "markdown",
   "metadata": {},
   "source": [
    "## 数据处理"
   ]
  },
  {
   "cell_type": "code",
   "execution_count": null,
   "metadata": {
    "collapsed": true
   },
   "outputs": [],
   "source": [
    "# 数据处理相关库\n",
    "import pandas as pd \n",
    "import numpy as np\n",
    "import gc\n",
    "\n",
    "# 画图\n",
    "import matplotlib\n",
    "import matplotlib.pyplot as plt\n",
    "import seaborn as sns\n",
    "from scipy import stats\n",
    "%matplotlib inline\n",
    "plt.rcParams['font.sans-serif']='SimHei'# 设置中文显示\n",
    "plt.rcParams['font.size']=14 # 设置字体大小\n",
    "matplotlib.rcParams['axes.unicode_minus'] = False # 解决负号问题\n",
    "\n",
    "#忽略警号\n",
    "import warnings\n",
    "warnings.filterwarnings(\"ignore\")"
   ]
  },
  {
   "cell_type": "markdown",
   "metadata": {},
   "source": [
    "**数据集**包含“双11”前6个月和“双11”当天匿名用户的购物日志，以及显示他们是否为重复购买者的标签信息。\n",
    "* label: 1'表示'user_id'是'merchant_id'的重复买家，'0'则表示不是，'-1'表示'user_id'不是给定商家的新客户\n",
    "* activity_log: {userid, merchantid}之间的每组交易中都记录有itemid, categoryid, brand_id, time，用#分隔。记录不按任何特定顺序排序"
   ]
  },
  {
   "cell_type": "code",
   "execution_count": null,
   "metadata": {
    "collapsed": true,
    "scrolled": true
   },
   "outputs": [],
   "source": [
    "# 使用format1进行加载\n",
    "# 加载全量样本\n",
    "# user_log = pd.read_csv('/Users/wangdonghui/Desktop/ZGZ/RS资料/dataset/RepeatBuyersPrediction/data_format1/test_format1.csv\\user_log_format1.csv', dtype={'time_stamp':'str'})\n",
    "# user_info = pd.read_csv('/Users/wangdonghui/Desktop/ZGZ/RS资料/dataset/RepeatBuyersPrediction/data_format1/test_format1.csv\\user_info_format1.csv')\n",
    "# train_data1 = pd.read_csv('/Users/wangdonghui/Desktop/ZGZ/RS资料/dataset/RepeatBuyersPrediction/data_format1/test_format1.csv\\train_format1.csv')\n",
    "# submission = pd.read_csv('/Users/wangdonghui/Desktop/ZGZ/RS资料/dataset/RepeatBuyersPrediction/data_format1/test_format1.csv\\test_format1.csv')\n",
    "\n",
    "# # 加载小样本\n",
    "user_log = pd.read_csv('./data_format1_small/sample_user_log.csv', dtype={'time_stamp':'str'})\n",
    "user_info = pd.read_csv('./data_format1_small/sample_user_info.csv')\n",
    "train_data1 = pd.read_csv('./data_format1_small/train.csv')\n",
    "submission = pd.read_csv('./data_format1_small/test.csv')\n",
    "\n",
    "print('ok')"
   ]
  },
  {
   "cell_type": "markdown",
   "metadata": {},
   "source": [
    "**user_info**\n",
    "* age_range，用户年龄范围。小于18岁为1；[18,24]为2；[25,29]为3；[30,34]为4；[35,39]为5；[40,49]为6；大于等于50时为7和8;0和NULL表示未知\n",
    "* gender，用户性别。0表示女性，1表示男性，2和NULL表示未知"
   ]
  },
  {
   "cell_type": "code",
   "execution_count": null,
   "metadata": {
    "collapsed": true,
    "scrolled": true
   },
   "outputs": [],
   "source": [
    "print(user_info.head(3).append(user_info.tail(3)))\n",
    "#print(user_info.describe())\n",
    "print(user_info.info())"
   ]
  },
  {
   "cell_type": "markdown",
   "metadata": {},
   "source": [
    "**user_log**\n",
    "* action_type，包含{0, 1, 2, 3}，0表示单击，1表示添加到购物车，2表示购买，3表示添加到收藏夹"
   ]
  },
  {
   "cell_type": "code",
   "execution_count": null,
   "metadata": {
    "collapsed": true,
    "scrolled": true
   },
   "outputs": [],
   "source": [
    "# 使用merchant_id（原列名seller_id）\n",
    "user_log.rename(columns={'seller_id':'merchant_id'}, inplace=True)\n",
    "# 格式化,压缩数据\n",
    "user_log['user_id'] = user_log['user_id'].astype('int32')\n",
    "user_log['merchant_id'] = user_log['merchant_id'].astype('int32')\n",
    "user_log['item_id'] = user_log['item_id'].astype('int32')\n",
    "user_log['cat_id'] = user_log['cat_id'].astype('int32')\n",
    "user_log['brand_id'].fillna(0, inplace=True)\n",
    "user_log['brand_id'] = user_log['brand_id'].astype('int32')\n",
    "# 添加一个临时年2020年\n",
    "user_log['time_stamp'] = user_log['time_stamp'].astype('str').apply(lambda x:'2020'+x)\n",
    "user_log['time_stamp'] = pd.to_datetime(user_log['time_stamp'],format='%Y%m%d')\n",
    "user_log['action_type'] = user_log['action_type'].astype('int8')\n",
    "\n",
    "print(user_log.head(3).append(user_log.tail(3)))\n",
    "#print(user_log.describe())\n",
    "print(user_log.info())"
   ]
  },
  {
   "cell_type": "markdown",
   "metadata": {},
   "source": [
    "**数据拼接**"
   ]
  },
  {
   "cell_type": "code",
   "execution_count": null,
   "metadata": {
    "collapsed": true,
    "scrolled": false
   },
   "outputs": [],
   "source": [
    "train_data1['origin'] = 'train'\n",
    "submission['origin'] = 'test'\n",
    "\n",
    "# 连接train、test表\n",
    "matrix = pd.concat([train_data1, submission], ignore_index=True, sort=False)\n",
    "# 连接user_info表\n",
    "matrix = pd.merge(matrix,user_info,on='user_id',how='left')\n",
    "matrix.drop(['prob'],axis=1,inplace=True)\n",
    "\n",
    "#压缩数据\n",
    "matrix['user_id'] = matrix['user_id'].astype('int32')\n",
    "matrix['age_range'].fillna(0,inplace=True)# 0和NULL表示未知\n",
    "matrix['age_range'] = matrix['age_range'].astype('int8')\n",
    "matrix['gender'].fillna(2,inplace=True)# 2和NULL表示未知\n",
    "matrix['gender'] = matrix['gender'].astype('int8')\n",
    "matrix['merchant_id'] = matrix['merchant_id'].astype('int32')\n",
    "matrix['label'] = matrix['label'].astype('str')\n",
    "\n",
    "print(matrix.head(3))\n",
    "#print(matrix.describe())\n",
    "print(matrix.info())"
   ]
  },
  {
   "cell_type": "code",
   "execution_count": null,
   "metadata": {
    "collapsed": true
   },
   "outputs": [],
   "source": [
    "df=train_data1['label'].value_counts()/len(train_data1)# 样本不均衡，需要处理\n",
    "df.plot(kind='bar')\n",
    "plt.title('样本标签分布')\n",
    "plt.show()\n",
    "df"
   ]
  },
  {
   "cell_type": "markdown",
   "metadata": {},
   "source": [
    "## 特征处理"
   ]
  },
  {
   "cell_type": "markdown",
   "metadata": {},
   "source": [
    "**用户特征处理**"
   ]
  },
  {
   "cell_type": "code",
   "execution_count": null,
   "metadata": {
    "collapsed": true
   },
   "outputs": [],
   "source": [
    "groups = user_log.groupby(['user_id'])\n",
    "\n",
    "# 统计用户交互行为数量 u1\n",
    "temp = groups.size().reset_index().rename(columns={0:'u1'})\n",
    "matrix = pd.merge(matrix,temp,on='user_id',how='left')"
   ]
  },
  {
   "cell_type": "code",
   "execution_count": null,
   "metadata": {
    "collapsed": true,
    "scrolled": true
   },
   "outputs": [],
   "source": [
    "# 统计用户有过交互行为的'item_id','cat_id','merchant_id','brand_id' 不重复值个数 u2,u3,u4,u5\n",
    "temp = groups['item_id','cat_id','merchant_id','brand_id'].nunique().reset_index().rename(columns={\n",
    "    'item_id':'u2','cat_id':'u3','merchant_id':'u4','brand_id':'u5'})\n",
    "matrix = pd.merge(matrix,temp,on='user_id',how='left')"
   ]
  },
  {
   "cell_type": "code",
   "execution_count": null,
   "metadata": {
    "collapsed": true
   },
   "outputs": [],
   "source": [
    "# 按天统计用户第一次和最后一次产生交互行为的时间间隔 u6\n",
    "temp = groups['time_stamp'].agg([('F_time','min'),('L_time','max')]).reset_index()\n",
    "temp['u6'] = (temp['L_time'] - temp['F_time']).dt.days\n",
    "matrix = pd.merge(matrix,temp[['user_id', 'u6']],on='user_id',how='left')"
   ]
  },
  {
   "cell_type": "code",
   "execution_count": null,
   "metadata": {
    "collapsed": true
   },
   "outputs": [],
   "source": [
    "# 统计操作类型为0，1，2，3的个数（原始操作，没有补0） u7,u8,u9,u10\n",
    "temp = groups['action_type'].value_counts().unstack().reset_index().rename(columns={0:'u7', 1:'u8', 2:'u9', 3:'u10'})\n",
    "matrix = pd.merge(matrix,temp[['user_id', 'u7','u8','u9','u10']],on='user_id',how='left')"
   ]
  },
  {
   "cell_type": "markdown",
   "metadata": {},
   "source": [
    "**商家特征处理**"
   ]
  },
  {
   "cell_type": "code",
   "execution_count": null,
   "metadata": {
    "collapsed": true
   },
   "outputs": [],
   "source": [
    "groups = user_log.groupby(['merchant_id'])\n",
    "\n",
    "# 统计商家被交互行为数量 m1\n",
    "temp = groups.size().reset_index().rename(columns={0:'m1'})\n",
    "matrix = pd.merge(matrix,temp,on='merchant_id',how='left')"
   ]
  },
  {
   "cell_type": "code",
   "execution_count": null,
   "metadata": {
    "collapsed": true
   },
   "outputs": [],
   "source": [
    "# 统计商家被交互的user_id, item_id, cat_id, brand_id 唯一值个数 m2,m3,m4,m5\n",
    "temp = groups['user_id', 'item_id', 'cat_id', 'brand_id'].nunique().reset_index().rename(columns={'user_id':'m2', 'item_id':'m3', 'cat_id':'m4', 'brand_id':'m5'})\n",
    "matrix = pd.merge(matrix,temp,on='merchant_id',how='left')"
   ]
  },
  {
   "cell_type": "code",
   "execution_count": null,
   "metadata": {
    "collapsed": true
   },
   "outputs": [],
   "source": [
    "# 统计商家被交互的action_type 唯一值个数 m6,m7,m8,m9\n",
    "temp = groups['action_type'].value_counts().unstack().reset_index().rename(columns={0:'m6', 1:'m7', 2:'m8', 3:'m9'})\n",
    "matrix = matrix.merge(temp, on='merchant_id', how='left')"
   ]
  },
  {
   "cell_type": "code",
   "execution_count": null,
   "metadata": {
    "collapsed": true
   },
   "outputs": [],
   "source": [
    "# 按照merchant_id 统计随机负采样的个数\n",
    "temp = train_data1[train_data1['label']==0].groupby(['merchant_id']).size().reset_index().rename(columns={0:'m10'})\n",
    "matrix = matrix.merge(temp, on='merchant_id', how='left')"
   ]
  },
  {
   "cell_type": "markdown",
   "metadata": {},
   "source": [
    "**用户-商家特征处理**"
   ]
  },
  {
   "cell_type": "code",
   "execution_count": null,
   "metadata": {
    "collapsed": true
   },
   "outputs": [],
   "source": [
    "groups = user_log.groupby(['user_id','merchant_id'])"
   ]
  },
  {
   "cell_type": "code",
   "execution_count": null,
   "metadata": {
    "collapsed": true
   },
   "outputs": [],
   "source": [
    "# 统计交互行为数量 um1\n",
    "temp = groups.size().reset_index().rename(columns={0:'um1'})\n",
    "matrix = matrix.merge(temp, on='merchant_id', how='left')"
   ]
  },
  {
   "cell_type": "code",
   "execution_count": null,
   "metadata": {
    "collapsed": true
   },
   "outputs": [],
   "source": [
    "# 统计'item_id','cat_id','brand_id' 唯一值个数 um2,um3,um4\n",
    "temp = groups['item_id','cat_id','brand_id'].nunique().reset_index().rename(columns={\n",
    "    'item_id':'um2','cat_id':'um3','brand_id':'um4'})\n",
    "matrix = matrix.merge(temp, on='merchant_id', how='left')"
   ]
  },
  {
   "cell_type": "code",
   "execution_count": null,
   "metadata": {
    "collapsed": true
   },
   "outputs": [],
   "source": [
    "# 统计操作类型为0，1，2，3的个数 um5,um6,um7,um8\n",
    "temp = groups['action_type'].value_counts().unstack().reset_index().rename(columns={0:'um5', 1:'um6', 2:'um7', 3:'um8'})\n",
    "matrix = matrix.merge(temp, on='merchant_id', how='left')"
   ]
  },
  {
   "cell_type": "code",
   "execution_count": null,
   "metadata": {
    "collapsed": true
   },
   "outputs": [],
   "source": [
    "# 统计时间间隔 um9\n",
    "temp = groups['time_stamp'].agg([('F_time','min'),('L_time','max')]).reset_index()\n",
    "temp['um9'] = (temp['L_time'] - temp['F_time']).dt.days\n",
    "matrix = matrix.merge(temp[['user_id','merchant_id','um9']], on='merchant_id', how='left')"
   ]
  },
  {
   "cell_type": "markdown",
   "metadata": {},
   "source": [
    "**购买点击比**"
   ]
  },
  {
   "cell_type": "code",
   "execution_count": null,
   "metadata": {
    "collapsed": true
   },
   "outputs": [],
   "source": [
    "# 用户购买点击比 r1\n",
    "matrix['r1'] = matrix['u9']/matrix['u7'] "
   ]
  },
  {
   "cell_type": "code",
   "execution_count": null,
   "metadata": {
    "collapsed": true
   },
   "outputs": [],
   "source": [
    "# 商家购买点击比 r2\n",
    "matrix['r2'] = matrix['m8']/matrix['m6'] "
   ]
  },
  {
   "cell_type": "code",
   "execution_count": null,
   "metadata": {
    "collapsed": true
   },
   "outputs": [],
   "source": [
    "#不同用户不同商家购买点击比 r3\n",
    "matrix['r3'] = matrix['um7']/matrix['um5']"
   ]
  },
  {
   "cell_type": "code",
   "execution_count": null,
   "metadata": {
    "collapsed": true
   },
   "outputs": [],
   "source": [
    "matrix"
   ]
  },
  {
   "cell_type": "code",
   "execution_count": null,
   "metadata": {
    "collapsed": true
   },
   "outputs": [],
   "source": [
    "#保存特征数据\n",
    "matrix.to_csv('./um_features.csv', index=False)\n",
    "print(\"ok\")"
   ]
  },
  {
   "cell_type": "markdown",
   "metadata": {},
   "source": [
    "## ？？？？？样本不均衡\n",
    "？？？？异常值\n",
    "#通过小提琴图图查看异常值，以price为例\n",
    "sns.violinplot(np.log(matrix['age_range']))\n",
    "\n",
    "项目导图\n",
    "python 数据处理 tableau 连接mysql数据库 仪表盘天猫复购用户画像 概览"
   ]
  },
  {
   "cell_type": "code",
   "execution_count": null,
   "metadata": {
    "collapsed": true
   },
   "outputs": [],
   "source": [
    "Google全量 保存csv \n",
    "导入mysql\n",
    "tableau连接mysql 仪表盘\n",
    "-生成notebook（加思维导图，加入仪表盘demo,加2预测方法，效果截图，结论DIN效果提升，天池得分0.67，总结遇到的问题样本不均衡。。）\n",
    "\n",
    "-2notebook\n",
    "\n",
    "数据不要，tableau+3notebook等"
   ]
  }
 ],
 "metadata": {
  "accelerator": "GPU",
  "colab": {
   "collapsed_sections": [
    "x1YpH5ygv62I"
   ],
   "machine_shape": "hm",
   "name": "RepeatBuyers_din.ipynb",
   "provenance": []
  },
  "hide_input": false,
  "kernelspec": {
   "display_name": "Python 3",
   "language": "python",
   "name": "python3"
  },
  "language_info": {
   "codemirror_mode": {
    "name": "ipython",
    "version": 3
   },
   "file_extension": ".py",
   "mimetype": "text/x-python",
   "name": "python",
   "nbconvert_exporter": "python",
   "pygments_lexer": "ipython3",
   "version": "3.6.3"
  },
  "toc": {
   "base_numbering": 1,
   "nav_menu": {},
   "number_sections": true,
   "sideBar": true,
   "skip_h1_title": false,
   "title_cell": "Table of Contents",
   "title_sidebar": "Contents",
   "toc_cell": false,
   "toc_position": {
    "height": "calc(100% - 180px)",
    "left": "10px",
    "top": "150px",
    "width": "288px"
   },
   "toc_section_display": true,
   "toc_window_display": true
  }
 },
 "nbformat": 4,
 "nbformat_minor": 1
}
