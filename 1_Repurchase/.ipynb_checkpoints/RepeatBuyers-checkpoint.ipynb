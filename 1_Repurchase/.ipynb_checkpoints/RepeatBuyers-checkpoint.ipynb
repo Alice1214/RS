{
 "cells": [
  {
   "cell_type": "markdown",
   "metadata": {
    "id": "qc66bhQ3w4gB"
   },
   "source": [
    "# 天猫用户复购预测"
   ]
  },
  {
   "cell_type": "markdown",
   "metadata": {
    "id": "MTxLu4SeCFJI"
   },
   "source": [
    "## 项目背景"
   ]
  },
  {
   "cell_type": "markdown",
   "metadata": {
    "id": "QvOASKd6CFJJ"
   },
   "source": [
    "电商会在双11、黑五等时间进行大量促销活动来吸引买家，然而，很多被吸引的买家都是一次性交易，这些促销对于转换为长期的顾客来说可能收效甚微。为了便于商家识别哪些用户可以成为重复购买的忠实买家，从而降低促销成本，提高投资回报率（ROI），天猫提供了“双11”前6个月和“双11”当天匿名用户的购物日志信息以及是否为重复购买者的标签信息，**目标是对于给定的商家，预测新用户是否能成为忠诚用户，即未来6个月内会购买这个商家的商品。**"
   ]
  },
  {
   "cell_type": "markdown",
   "metadata": {
    "id": "lCmeuzh0CFJJ"
   },
   "source": [
    "## 项目分析思维导图"
   ]
  },
  {
   "cell_type": "markdown",
   "metadata": {
    "id": "XHWM65XzCFJK"
   },
   "source": [
    "图片"
   ]
  },
  {
   "cell_type": "markdown",
   "metadata": {
    "id": "y_SQsoAwCFJK"
   },
   "source": [
    "## 数据处理"
   ]
  },
  {
   "cell_type": "code",
   "execution_count": 1,
   "metadata": {
    "colab": {
     "base_uri": "https://localhost:8080/"
    },
    "executionInfo": {
     "elapsed": 396,
     "status": "ok",
     "timestamp": 1633414076509,
     "user": {
      "displayName": "江新一",
      "photoUrl": "https://lh3.googleusercontent.com/a/default-user=s64",
      "userId": "15238058449916865557"
     },
     "user_tz": -480
    },
    "id": "a3VRQzjHCNut",
    "outputId": "1e6e4be6-8dfe-4e0e-ad27-8cf85e8bbd98"
   },
   "outputs": [
    {
     "name": "stdout",
     "output_type": "stream",
     "text": [
      "Drive already mounted at /content/gdrive; to attempt to forcibly remount, call drive.mount(\"/content/gdrive\", force_remount=True).\n"
     ]
    }
   ],
   "source": [
    "## 代码是在Google Colab中运行的\n",
    "#from google.colab import drive\n",
    "#drive.mount('/content/gdrive') #挂载网盘"
   ]
  },
  {
   "cell_type": "code",
   "execution_count": 2,
   "metadata": {
    "collapsed": true,
    "executionInfo": {
     "elapsed": 5,
     "status": "ok",
     "timestamp": 1633414077016,
     "user": {
      "displayName": "江新一",
      "photoUrl": "https://lh3.googleusercontent.com/a/default-user=s64",
      "userId": "15238058449916865557"
     },
     "user_tz": -480
    },
    "id": "BgeOYjE5CSbo"
   },
   "outputs": [],
   "source": [
    "#import os\n",
    "#os.chdir(\"/content/gdrive/My Drive/RS/Repeat Buyers Prediction\") #改变当前工作目录到指定的路径"
   ]
  },
  {
   "cell_type": "code",
   "execution_count": 3,
   "metadata": {
    "collapsed": true,
    "executionInfo": {
     "elapsed": 333,
     "status": "ok",
     "timestamp": 1633414077345,
     "user": {
      "displayName": "江新一",
      "photoUrl": "https://lh3.googleusercontent.com/a/default-user=s64",
      "userId": "15238058449916865557"
     },
     "user_tz": -480
    },
    "id": "LSYdEWApCFJK"
   },
   "outputs": [],
   "source": [
    "# 数据处理相关库\n",
    "import pandas as pd \n",
    "import numpy as np\n",
    "import gc\n",
    "\n",
    "# 画图\n",
    "import matplotlib\n",
    "import matplotlib.pyplot as plt\n",
    "import seaborn as sns\n",
    "from scipy import stats\n",
    "%matplotlib inline\n",
    "plt.rcParams['font.sans-serif']='SimHei'# 设置中文显示\n",
    "plt.rcParams['font.size']=14 # 设置字体大小\n",
    "matplotlib.rcParams['axes.unicode_minus'] = False # 解决负号问题\n",
    "\n",
    "#忽略警号\n",
    "import warnings\n",
    "warnings.filterwarnings(\"ignore\")"
   ]
  },
  {
   "cell_type": "markdown",
   "metadata": {
    "id": "qNtlqr_cCFJM"
   },
   "source": [
    "**数据集**包含“双11”前6个月和“双11”当天匿名用户的购物日志，以及显示他们是否为重复购买者的标签信息。\n",
    "* label: 1'表示'user_id'是'merchant_id'的重复买家，'0'则表示不是，'-1'表示'user_id'不是给定商家的新客户\n",
    "* activity_log: {userid, merchantid}之间的每组交易中都记录有itemid, categoryid, brand_id, time，用#分隔。记录不按任何特定顺序排序"
   ]
  },
  {
   "cell_type": "code",
   "execution_count": 4,
   "metadata": {
    "colab": {
     "base_uri": "https://localhost:8080/"
    },
    "executionInfo": {
     "elapsed": 41855,
     "status": "ok",
     "timestamp": 1633414119198,
     "user": {
      "displayName": "江新一",
      "photoUrl": "https://lh3.googleusercontent.com/a/default-user=s64",
      "userId": "15238058449916865557"
     },
     "user_tz": -480
    },
    "id": "WcPXU3T_DAWz",
    "outputId": "a03b9ddc-d1a1-4957-fed1-8a0bf979d2e6"
   },
   "outputs": [
    {
     "name": "stdout",
     "output_type": "stream",
     "text": [
      "ok\n"
     ]
    }
   ],
   "source": [
    "# 使用format1进行加载\n",
    "# 加载全量样本\n",
    "user_log = pd.read_csv('./Repeat Buyers Prediction DataSet/data_format1/user_log_format1.csv', dtype={'time_stamp':'str'})\n",
    "user_info = pd.read_csv('./Repeat Buyers Prediction DataSet/data_format1/user_info_format1.csv')\n",
    "train_data1 = pd.read_csv('./Repeat Buyers Prediction DataSet/data_format1/train_format1.csv')\n",
    "submission = pd.read_csv('./Repeat Buyers Prediction DataSet/data_format1/test_format1.csv')\n",
    "\n",
    "# # 加载小样本\n",
    "# user_log = pd.read_csv('./Repeat Buyers Prediction DataSet/data_format1_small/sample_user_log.csv', dtype={'time_stamp':'str'})\n",
    "# user_info = pd.read_csv('./Repeat Buyers Prediction DataSet/data_format1_small/sample_user_info.csv')\n",
    "# train_data1 = pd.read_csv('./Repeat Buyers Prediction DataSet/data_format1_small/train.csv')\n",
    "# submission = pd.read_csv('./Repeat Buyers Prediction DataSet/data_format1_small/test.csv')\n",
    "\n",
    "print('ok')"
   ]
  },
  {
   "cell_type": "markdown",
   "metadata": {
    "id": "fR3LfUA9CFJN"
   },
   "source": [
    "**user_info**\n",
    "* age_range，用户年龄范围。小于18岁为1；[18,24]为2；[25,29]为3；[30,34]为4；[35,39]为5；[40,49]为6；大于等于50时为7和8;0和NULL表示未知\n",
    "* gender，用户性别。0表示女性，1表示男性，2和NULL表示未知"
   ]
  },
  {
   "cell_type": "code",
   "execution_count": 5,
   "metadata": {
    "colab": {
     "base_uri": "https://localhost:8080/"
    },
    "executionInfo": {
     "elapsed": 23,
     "status": "ok",
     "timestamp": 1633414119199,
     "user": {
      "displayName": "江新一",
      "photoUrl": "https://lh3.googleusercontent.com/a/default-user=s64",
      "userId": "15238058449916865557"
     },
     "user_tz": -480
    },
    "id": "cGupDRQxCFJO",
    "outputId": "c373a337-d333-4cff-f837-7c743da6594c",
    "scrolled": true
   },
   "outputs": [
    {
     "name": "stdout",
     "output_type": "stream",
     "text": [
      "        user_id  age_range  gender\n",
      "0        376517        6.0     1.0\n",
      "1        234512        5.0     0.0\n",
      "2        344532        5.0     0.0\n",
      "424167   208016        NaN     NaN\n",
      "424168   272535        6.0     1.0\n",
      "424169    18031        3.0     1.0\n",
      "<class 'pandas.core.frame.DataFrame'>\n",
      "RangeIndex: 424170 entries, 0 to 424169\n",
      "Data columns (total 3 columns):\n",
      " #   Column     Non-Null Count   Dtype  \n",
      "---  ------     --------------   -----  \n",
      " 0   user_id    424170 non-null  int64  \n",
      " 1   age_range  421953 non-null  float64\n",
      " 2   gender     417734 non-null  float64\n",
      "dtypes: float64(2), int64(1)\n",
      "memory usage: 9.7 MB\n",
      "None\n"
     ]
    }
   ],
   "source": [
    "print(user_info.head(3).append(user_info.tail(3)))\n",
    "#print(user_info.describe())\n",
    "print(user_info.info())"
   ]
  },
  {
   "cell_type": "markdown",
   "metadata": {
    "id": "_bvthp9LCFJO"
   },
   "source": [
    "**user_log**\n",
    "* action_type，包含{0, 1, 2, 3}，0表示单击，1表示添加到购物车，2表示购买，3表示添加到收藏夹"
   ]
  },
  {
   "cell_type": "code",
   "execution_count": 6,
   "metadata": {
    "colab": {
     "base_uri": "https://localhost:8080/"
    },
    "executionInfo": {
     "elapsed": 32937,
     "status": "ok",
     "timestamp": 1633414152118,
     "user": {
      "displayName": "江新一",
      "photoUrl": "https://lh3.googleusercontent.com/a/default-user=s64",
      "userId": "15238058449916865557"
     },
     "user_tz": -480
    },
    "id": "b2klHfvwCFJO",
    "outputId": "8af50f70-8294-42e9-99d3-bb6f06193712",
    "scrolled": true
   },
   "outputs": [
    {
     "name": "stdout",
     "output_type": "stream",
     "text": [
      "          user_id  item_id  cat_id  ...  brand_id  time_stamp action_type\n",
      "0          328862   323294     833  ...      2661  2020-08-29           0\n",
      "1          328862   844400    1271  ...      2661  2020-08-29           0\n",
      "2          328862   575153    1271  ...      2661  2020-08-29           0\n",
      "54925327   208016   449814     898  ...      7995  2020-11-10           0\n",
      "54925328   208016   634856     898  ...      7995  2020-11-10           0\n",
      "54925329   208016   272094     898  ...      7995  2020-11-11           0\n",
      "\n",
      "[6 rows x 7 columns]\n",
      "<class 'pandas.core.frame.DataFrame'>\n",
      "RangeIndex: 54925330 entries, 0 to 54925329\n",
      "Data columns (total 7 columns):\n",
      " #   Column       Dtype         \n",
      "---  ------       -----         \n",
      " 0   user_id      int32         \n",
      " 1   item_id      int32         \n",
      " 2   cat_id       int32         \n",
      " 3   merchant_id  int32         \n",
      " 4   brand_id     int32         \n",
      " 5   time_stamp   datetime64[ns]\n",
      " 6   action_type  int8          \n",
      "dtypes: datetime64[ns](1), int32(5), int8(1)\n",
      "memory usage: 1.5 GB\n",
      "None\n"
     ]
    }
   ],
   "source": [
    "# 使用merchant_id（原列名seller_id）\n",
    "user_log.rename(columns={'seller_id':'merchant_id'}, inplace=True)\n",
    "# 格式化,压缩数据\n",
    "user_log['user_id'] = user_log['user_id'].astype('int32')\n",
    "user_log['merchant_id'] = user_log['merchant_id'].astype('int32')\n",
    "user_log['item_id'] = user_log['item_id'].astype('int32')\n",
    "user_log['cat_id'] = user_log['cat_id'].astype('int32')\n",
    "user_log['brand_id'].fillna(0, inplace=True)\n",
    "user_log['brand_id'] = user_log['brand_id'].astype('int32')\n",
    "# 添加一个临时年2020年\n",
    "user_log['time_stamp'] = user_log['time_stamp'].astype('str').apply(lambda x:'2020'+x)\n",
    "user_log['time_stamp'] = pd.to_datetime(user_log['time_stamp'],format='%Y%m%d')\n",
    "user_log['action_type'] = user_log['action_type'].astype('int8')\n",
    "\n",
    "print(user_log.head(3).append(user_log.tail(3)))\n",
    "#print(user_log.describe())\n",
    "print(user_log.info())"
   ]
  },
  {
   "cell_type": "markdown",
   "metadata": {
    "id": "S5lMCjdMCFJP"
   },
   "source": [
    "**数据拼接**"
   ]
  },
  {
   "cell_type": "code",
   "execution_count": 7,
   "metadata": {
    "colab": {
     "base_uri": "https://localhost:8080/"
    },
    "executionInfo": {
     "elapsed": 540,
     "status": "ok",
     "timestamp": 1633414152642,
     "user": {
      "displayName": "江新一",
      "photoUrl": "https://lh3.googleusercontent.com/a/default-user=s64",
      "userId": "15238058449916865557"
     },
     "user_tz": -480
    },
    "id": "gOszOBeyCFJP",
    "outputId": "8198db23-a0af-461e-823f-81f3a5f4ae1a",
    "scrolled": false
   },
   "outputs": [
    {
     "name": "stdout",
     "output_type": "stream",
     "text": [
      "   user_id  merchant_id label origin  age_range  gender\n",
      "0    34176         3906   0.0  train          6       0\n",
      "1    34176          121   0.0  train          6       0\n",
      "2    34176         4356   1.0  train          6       0\n",
      "<class 'pandas.core.frame.DataFrame'>\n",
      "Int64Index: 522341 entries, 0 to 522340\n",
      "Data columns (total 6 columns):\n",
      " #   Column       Non-Null Count   Dtype \n",
      "---  ------       --------------   ----- \n",
      " 0   user_id      522341 non-null  int32 \n",
      " 1   merchant_id  522341 non-null  int32 \n",
      " 2   label        522341 non-null  object\n",
      " 3   origin       522341 non-null  object\n",
      " 4   age_range    522341 non-null  int8  \n",
      " 5   gender       522341 non-null  int8  \n",
      "dtypes: int32(2), int8(2), object(2)\n",
      "memory usage: 16.9+ MB\n",
      "None\n"
     ]
    }
   ],
   "source": [
    "train_data1['origin'] = 'train'\n",
    "submission['origin'] = 'test'\n",
    "\n",
    "# 连接train、test表\n",
    "matrix = pd.concat([train_data1, submission], ignore_index=True, sort=False)\n",
    "# 连接user_info表\n",
    "matrix = pd.merge(matrix,user_info,on='user_id',how='left')\n",
    "matrix.drop(['prob'],axis=1,inplace=True)\n",
    "\n",
    "#压缩数据\n",
    "matrix['user_id'] = matrix['user_id'].astype('int32')\n",
    "matrix['age_range'].fillna(0,inplace=True)# 0和NULL表示未知\n",
    "matrix['age_range'] = matrix['age_range'].astype('int8')\n",
    "matrix['gender'].fillna(2,inplace=True)# 2和NULL表示未知\n",
    "matrix['gender'] = matrix['gender'].astype('int8')\n",
    "matrix['merchant_id'] = matrix['merchant_id'].astype('int32')\n",
    "matrix['label'] = matrix['label'].astype('str')\n",
    "\n",
    "print(matrix.head(3))\n",
    "#print(matrix.describe())\n",
    "print(matrix.info())"
   ]
  },
  {
   "cell_type": "code",
   "execution_count": 8,
   "metadata": {
    "colab": {
     "base_uri": "https://localhost:8080/",
     "height": 371
    },
    "executionInfo": {
     "elapsed": 11,
     "status": "ok",
     "timestamp": 1633414152642,
     "user": {
      "displayName": "江新一",
      "photoUrl": "https://lh3.googleusercontent.com/a/default-user=s64",
      "userId": "15238058449916865557"
     },
     "user_tz": -480
    },
    "id": "-G2AEvhuCFJQ",
    "outputId": "10838d94-7352-4e1d-ed3e-9c2964d49509"
   },
   "outputs": [
    {
     "name": "stderr",
     "output_type": "stream",
     "text": [
      "findfont: Font family ['sans-serif'] not found. Falling back to DejaVu Sans.\n",
      "findfont: Font family ['sans-serif'] not found. Falling back to DejaVu Sans.\n"
     ]
    },
    {
     "data": {
      "image/png": "[encoded data removed]",
      "text/plain": [
       "<Figure size 432x288 with 1 Axes>"
      ]
     },
     "metadata": {
      "needs_background": "light"
     },
     "output_type": "display_data"
    },
    {
     "data": {
      "text/plain": [
       "0    0.938849\n",
       "1    0.061151\n",
       "Name: label, dtype: float64"
      ]
     },
     "execution_count": 8,
     "metadata": {},
     "output_type": "execute_result"
    }
   ],
   "source": [
    "df=train_data1['label'].value_counts()/len(train_data1)# 样本不均衡，需要处理\n",
    "df.plot(kind='bar')\n",
    "plt.title('Label')\n",
    "plt.show()\n",
    "df"
   ]
  },
  {
   "cell_type": "markdown",
   "metadata": {
    "id": "T7oh1J55CFJQ"
   },
   "source": [
    "## 特征处理"
   ]
  },
  {
   "cell_type": "markdown",
   "metadata": {
    "id": "rNa5vdPXCFJQ"
   },
   "source": [
    "**用户特征处理**"
   ]
  },
  {
   "cell_type": "code",
   "execution_count": 9,
   "metadata": {
    "collapsed": true,
    "executionInfo": {
     "elapsed": 1539,
     "status": "ok",
     "timestamp": 1633414154175,
     "user": {
      "displayName": "江新一",
      "photoUrl": "https://lh3.googleusercontent.com/a/default-user=s64",
      "userId": "15238058449916865557"
     },
     "user_tz": -480
    },
    "id": "4BHZ_mJxCFJR"
   },
   "outputs": [],
   "source": [
    "groups = user_log.groupby(['user_id'])\n",
    "\n",
    "# 统计用户交互行为数量 u1\n",
    "temp = groups.size().reset_index().rename(columns={0:'u1'})\n",
    "matrix = pd.merge(matrix,temp,on='user_id',how='left')"
   ]
  },
  {
   "cell_type": "code",
   "execution_count": 10,
   "metadata": {
    "collapsed": true,
    "executionInfo": {
     "elapsed": 81090,
     "status": "ok",
     "timestamp": 1633414235259,
     "user": {
      "displayName": "江新一",
      "photoUrl": "https://lh3.googleusercontent.com/a/default-user=s64",
      "userId": "15238058449916865557"
     },
     "user_tz": -480
    },
    "id": "k4Ui_omiCFJR",
    "scrolled": true
   },
   "outputs": [],
   "source": [
    "# 统计用户有过交互行为的'item_id','cat_id','merchant_id','brand_id' 不重复值个数 u2,u3,u4,u5\n",
    "temp = groups['item_id','cat_id','merchant_id','brand_id'].nunique().reset_index().rename(columns={\n",
    "    'item_id':'u2','cat_id':'u3','merchant_id':'u4','brand_id':'u5'})\n",
    "matrix = pd.merge(matrix,temp,on='user_id',how='left')"
   ]
  },
  {
   "cell_type": "code",
   "execution_count": 11,
   "metadata": {
    "collapsed": true,
    "executionInfo": {
     "elapsed": 538,
     "status": "ok",
     "timestamp": 1633414235793,
     "user": {
      "displayName": "江新一",
      "photoUrl": "https://lh3.googleusercontent.com/a/default-user=s64",
      "userId": "15238058449916865557"
     },
     "user_tz": -480
    },
    "id": "oToyLhTlCFJR"
   },
   "outputs": [],
   "source": [
    "# 按天统计用户第一次和最后一次产生交互行为的时间间隔 u6\n",
    "temp = groups['time_stamp'].agg([('F_time','min'),('L_time','max')]).reset_index()\n",
    "temp['u6'] = (temp['L_time'] - temp['F_time']).dt.days\n",
    "matrix = pd.merge(matrix,temp[['user_id', 'u6']],on='user_id',how='left')"
   ]
  },
  {
   "cell_type": "code",
   "execution_count": 12,
   "metadata": {
    "collapsed": true,
    "executionInfo": {
     "elapsed": 7831,
     "status": "ok",
     "timestamp": 1633414243622,
     "user": {
      "displayName": "江新一",
      "photoUrl": "https://lh3.googleusercontent.com/a/default-user=s64",
      "userId": "15238058449916865557"
     },
     "user_tz": -480
    },
    "id": "5xd6pFUZCFJS"
   },
   "outputs": [],
   "source": [
    "# 统计操作类型为0，1，2，3的个数（原始操作，没有补0） u7,u8,u9,u10\n",
    "temp = groups['action_type'].value_counts().unstack().reset_index().rename(columns={0:'u7', 1:'u8', 2:'u9', 3:'u10'})\n",
    "matrix = pd.merge(matrix,temp[['user_id', 'u7','u8','u9','u10']],on='user_id',how='left')"
   ]
  },
  {
   "cell_type": "markdown",
   "metadata": {
    "id": "ufLORTjgCFJS"
   },
   "source": [
    "**商家特征处理**"
   ]
  },
  {
   "cell_type": "code",
   "execution_count": 13,
   "metadata": {
    "collapsed": true,
    "executionInfo": {
     "elapsed": 1146,
     "status": "ok",
     "timestamp": 1633414244750,
     "user": {
      "displayName": "江新一",
      "photoUrl": "https://lh3.googleusercontent.com/a/default-user=s64",
      "userId": "15238058449916865557"
     },
     "user_tz": -480
    },
    "id": "BR78LImDCFJS"
   },
   "outputs": [],
   "source": [
    "groups = user_log.groupby(['merchant_id'])\n",
    "\n",
    "# 统计商家被交互行为数量 m1\n",
    "temp = groups.size().reset_index().rename(columns={0:'m1'})\n",
    "matrix = pd.merge(matrix,temp,on='merchant_id',how='left')"
   ]
  },
  {
   "cell_type": "code",
   "execution_count": 14,
   "metadata": {
    "collapsed": true,
    "executionInfo": {
     "elapsed": 87353,
     "status": "ok",
     "timestamp": 1633414332098,
     "user": {
      "displayName": "江新一",
      "photoUrl": "https://lh3.googleusercontent.com/a/default-user=s64",
      "userId": "15238058449916865557"
     },
     "user_tz": -480
    },
    "id": "nFgNeAcnCFJT"
   },
   "outputs": [],
   "source": [
    "# 统计商家被交互的user_id, item_id, cat_id, brand_id 唯一值个数 m2,m3,m4,m5\n",
    "temp = groups['user_id', 'item_id', 'cat_id', 'brand_id'].nunique().reset_index().rename(columns={'user_id':'m2', 'item_id':'m3', 'cat_id':'m4', 'brand_id':'m5'})\n",
    "matrix = pd.merge(matrix,temp,on='merchant_id',how='left')"
   ]
  },
  {
   "cell_type": "code",
   "execution_count": 15,
   "metadata": {
    "collapsed": true,
    "executionInfo": {
     "elapsed": 13851,
     "status": "ok",
     "timestamp": 1633414345928,
     "user": {
      "displayName": "江新一",
      "photoUrl": "https://lh3.googleusercontent.com/a/default-user=s64",
      "userId": "15238058449916865557"
     },
     "user_tz": -480
    },
    "id": "9Da0Q_Q1CFJT"
   },
   "outputs": [],
   "source": [
    "# 统计商家被交互的action_type 唯一值个数 m6,m7,m8,m9\n",
    "temp = groups['action_type'].value_counts().unstack().reset_index().rename(columns={0:'m6', 1:'m7', 2:'m8', 3:'m9'})\n",
    "matrix = matrix.merge(temp, on='merchant_id', how='left')"
   ]
  },
  {
   "cell_type": "code",
   "execution_count": 16,
   "metadata": {
    "collapsed": true,
    "executionInfo": {
     "elapsed": 24,
     "status": "ok",
     "timestamp": 1633414345929,
     "user": {
      "displayName": "江新一",
      "photoUrl": "https://lh3.googleusercontent.com/a/default-user=s64",
      "userId": "15238058449916865557"
     },
     "user_tz": -480
    },
    "id": "7ekQESbGCFJT"
   },
   "outputs": [],
   "source": [
    "# 按照merchant_id 统计随机负采样的个数 m10\n",
    "temp = train_data1[train_data1['label']==0].groupby(['merchant_id']).size().reset_index().rename(columns={0:'m10'})\n",
    "matrix = matrix.merge(temp, on='merchant_id', how='left')"
   ]
  },
  {
   "cell_type": "markdown",
   "metadata": {
    "id": "ljYn9PdFCFJT"
   },
   "source": [
    "**用户-商家特征处理**"
   ]
  },
  {
   "cell_type": "code",
   "execution_count": 17,
   "metadata": {
    "collapsed": true,
    "executionInfo": {
     "elapsed": 23,
     "status": "ok",
     "timestamp": 1633414345930,
     "user": {
      "displayName": "江新一",
      "photoUrl": "https://lh3.googleusercontent.com/a/default-user=s64",
      "userId": "15238058449916865557"
     },
     "user_tz": -480
    },
    "id": "bniZmzRXCFJT"
   },
   "outputs": [],
   "source": [
    "groups = user_log.groupby(['user_id','merchant_id'])"
   ]
  },
  {
   "cell_type": "code",
   "execution_count": 18,
   "metadata": {
    "colab": {
     "base_uri": "https://localhost:8080/"
    },
    "executionInfo": {
     "elapsed": 23,
     "status": "ok",
     "timestamp": 1633414345931,
     "user": {
      "displayName": "江新一",
      "photoUrl": "https://lh3.googleusercontent.com/a/default-user=s64",
      "userId": "15238058449916865557"
     },
     "user_tz": -480
    },
    "id": "wsycxaJZJezG",
    "outputId": "25666fc3-0b62-4d67-8153-7fd5cc0582c6"
   },
   "outputs": [
    {
     "data": {
      "text/plain": [
       "2641"
      ]
     },
     "execution_count": 18,
     "metadata": {},
     "output_type": "execute_result"
    }
   ],
   "source": [
    "#############\n",
    "del user_info,user_log,train_data1,submission\n",
    "gc.collect()"
   ]
  },
  {
   "cell_type": "code",
   "execution_count": 19,
   "metadata": {
    "collapsed": true,
    "executionInfo": {
     "elapsed": 16285,
     "status": "ok",
     "timestamp": 1633414362199,
     "user": {
      "displayName": "江新一",
      "photoUrl": "https://lh3.googleusercontent.com/a/default-user=s64",
      "userId": "15238058449916865557"
     },
     "user_tz": -480
    },
    "id": "9r3mWOqNCFJT"
   },
   "outputs": [],
   "source": [
    "# 统计交互行为数量 um1\n",
    "temp = groups.size().reset_index().rename(columns={0:'um1'})\n",
    "matrix = matrix.merge(temp, on=['user_id', 'merchant_id'], how='left')"
   ]
  },
  {
   "cell_type": "code",
   "execution_count": 20,
   "metadata": {
    "collapsed": true,
    "executionInfo": {
     "elapsed": 70068,
     "status": "ok",
     "timestamp": 1633414432243,
     "user": {
      "displayName": "江新一",
      "photoUrl": "https://lh3.googleusercontent.com/a/default-user=s64",
      "userId": "15238058449916865557"
     },
     "user_tz": -480
    },
    "id": "U4pVAQsICFJU"
   },
   "outputs": [],
   "source": [
    "# 统计'item_id','cat_id','brand_id' 唯一值个数 um2,um3,um4\n",
    "temp = groups['item_id', 'cat_id', 'brand_id'].nunique().reset_index().rename(columns={'item_id':'um2', 'cat_id':'um3', 'brand_id':'um4'})\n",
    "matrix = matrix.merge(temp, on=['user_id', 'merchant_id'], how='left')"
   ]
  },
  {
   "cell_type": "code",
   "execution_count": 21,
   "metadata": {
    "collapsed": true,
    "executionInfo": {
     "elapsed": 32394,
     "status": "ok",
     "timestamp": 1633414464619,
     "user": {
      "displayName": "江新一",
      "photoUrl": "https://lh3.googleusercontent.com/a/default-user=s64",
      "userId": "15238058449916865557"
     },
     "user_tz": -480
    },
    "id": "KP1BO01pCFJU"
   },
   "outputs": [],
   "source": [
    "# 统计操作类型为0，1，2，3的个数 um5,um6,um7,um8\n",
    "temp = groups['action_type'].value_counts().unstack().reset_index().rename(columns={0:'um5', 1:'um6', 2:'um7', 3:'um8'})\n",
    "matrix = matrix.merge(temp, on=['user_id', 'merchant_id'], how='left')"
   ]
  },
  {
   "cell_type": "code",
   "execution_count": 22,
   "metadata": {
    "collapsed": true,
    "executionInfo": {
     "elapsed": 8115,
     "status": "ok",
     "timestamp": 1633414472704,
     "user": {
      "displayName": "江新一",
      "photoUrl": "https://lh3.googleusercontent.com/a/default-user=s64",
      "userId": "15238058449916865557"
     },
     "user_tz": -480
    },
    "id": "oCb1wkEaCFJU"
   },
   "outputs": [],
   "source": [
    "# 统计时间间隔 um9\n",
    "temp = groups['time_stamp'].agg([('F_time','min'),('L_time','max')]).reset_index()\n",
    "temp['um9'] = (temp['L_time'] - temp['F_time']).dt.days\n",
    "matrix = matrix.merge(temp[['user_id','merchant_id','um9']], on=['user_id', 'merchant_id'], how='left')"
   ]
  },
  {
   "cell_type": "markdown",
   "metadata": {
    "id": "-bw6duOuCFJU"
   },
   "source": [
    "**购买点击比**"
   ]
  },
  {
   "cell_type": "code",
   "execution_count": 23,
   "metadata": {
    "collapsed": true,
    "executionInfo": {
     "elapsed": 37,
     "status": "ok",
     "timestamp": 1633414472705,
     "user": {
      "displayName": "江新一",
      "photoUrl": "https://lh3.googleusercontent.com/a/default-user=s64",
      "userId": "15238058449916865557"
     },
     "user_tz": -480
    },
    "id": "olfdTm1mCFJU"
   },
   "outputs": [],
   "source": [
    "# 用户购买点击比 r1\n",
    "matrix['r1'] = matrix['u9']/matrix['u7'] "
   ]
  },
  {
   "cell_type": "code",
   "execution_count": 24,
   "metadata": {
    "collapsed": true,
    "executionInfo": {
     "elapsed": 36,
     "status": "ok",
     "timestamp": 1633414472706,
     "user": {
      "displayName": "江新一",
      "photoUrl": "https://lh3.googleusercontent.com/a/default-user=s64",
      "userId": "15238058449916865557"
     },
     "user_tz": -480
    },
    "id": "BBofINlGCFJU"
   },
   "outputs": [],
   "source": [
    "# 商家购买点击比 r2\n",
    "matrix['r2'] = matrix['m8']/matrix['m6'] "
   ]
  },
  {
   "cell_type": "code",
   "execution_count": 25,
   "metadata": {
    "collapsed": true,
    "executionInfo": {
     "elapsed": 35,
     "status": "ok",
     "timestamp": 1633414472707,
     "user": {
      "displayName": "江新一",
      "photoUrl": "https://lh3.googleusercontent.com/a/default-user=s64",
      "userId": "15238058449916865557"
     },
     "user_tz": -480
    },
    "id": "bPsYxj12CFJU"
   },
   "outputs": [],
   "source": [
    "#不同用户不同商家购买点击比 r3\n",
    "matrix['r3'] = matrix['um7']/matrix['um5']"
   ]
  },
  {
   "cell_type": "code",
   "execution_count": 26,
   "metadata": {
    "colab": {
     "base_uri": "https://localhost:8080/",
     "height": 444
    },
    "executionInfo": {
     "elapsed": 35,
     "status": "ok",
     "timestamp": 1633414472708,
     "user": {
      "displayName": "江新一",
      "photoUrl": "https://lh3.googleusercontent.com/a/default-user=s64",
      "userId": "15238058449916865557"
     },
     "user_tz": -480
    },
    "id": "Qz-NpZbMCFJV",
    "outputId": "97275358-c3cc-451e-c4d6-4db8b108eabc"
   },
   "outputs": [
    {
     "data": {
      "text/html": [
       "<div>\n",
       "<style scoped>\n",
       "    .dataframe tbody tr th:only-of-type {\n",
       "        vertical-align: middle;\n",
       "    }\n",
       "\n",
       "    .dataframe tbody tr th {\n",
       "        vertical-align: top;\n",
       "    }\n",
       "\n",
       "    .dataframe thead th {\n",
       "        text-align: right;\n",
       "    }\n",
       "</style>\n",
       "<table border=\"1\" class=\"dataframe\">\n",
       "  <thead>\n",
       "    <tr style=\"text-align: right;\">\n",
       "      <th></th>\n",
       "      <th>user_id</th>\n",
       "      <th>merchant_id</th>\n",
       "      <th>label</th>\n",
       "      <th>origin</th>\n",
       "      <th>age_range</th>\n",
       "      <th>gender</th>\n",
       "      <th>u1</th>\n",
       "      <th>u2</th>\n",
       "      <th>u3</th>\n",
       "      <th>u4</th>\n",
       "      <th>u5</th>\n",
       "      <th>u6</th>\n",
       "      <th>u7</th>\n",
       "      <th>u8</th>\n",
       "      <th>u9</th>\n",
       "      <th>u10</th>\n",
       "      <th>m1</th>\n",
       "      <th>m2</th>\n",
       "      <th>m3</th>\n",
       "      <th>m4</th>\n",
       "      <th>m5</th>\n",
       "      <th>m6</th>\n",
       "      <th>m7</th>\n",
       "      <th>m8</th>\n",
       "      <th>m9</th>\n",
       "      <th>m10</th>\n",
       "      <th>um1</th>\n",
       "      <th>um2</th>\n",
       "      <th>um3</th>\n",
       "      <th>um4</th>\n",
       "      <th>um5</th>\n",
       "      <th>um6</th>\n",
       "      <th>um7</th>\n",
       "      <th>um8</th>\n",
       "      <th>um9</th>\n",
       "      <th>r1</th>\n",
       "      <th>r2</th>\n",
       "      <th>r3</th>\n",
       "    </tr>\n",
       "  </thead>\n",
       "  <tbody>\n",
       "    <tr>\n",
       "      <th>0</th>\n",
       "      <td>34176</td>\n",
       "      <td>3906</td>\n",
       "      <td>0.0</td>\n",
       "      <td>train</td>\n",
       "      <td>6</td>\n",
       "      <td>0</td>\n",
       "      <td>451</td>\n",
       "      <td>256</td>\n",
       "      <td>45</td>\n",
       "      <td>109</td>\n",
       "      <td>108</td>\n",
       "      <td>174</td>\n",
       "      <td>410.0</td>\n",
       "      <td>NaN</td>\n",
       "      <td>34.0</td>\n",
       "      <td>7.0</td>\n",
       "      <td>16269</td>\n",
       "      <td>5819</td>\n",
       "      <td>308</td>\n",
       "      <td>20</td>\n",
       "      <td>2</td>\n",
       "      <td>14870.0</td>\n",
       "      <td>28.0</td>\n",
       "      <td>410.0</td>\n",
       "      <td>961.0</td>\n",
       "      <td>68.0</td>\n",
       "      <td>39</td>\n",
       "      <td>20</td>\n",
       "      <td>6</td>\n",
       "      <td>1</td>\n",
       "      <td>36.0</td>\n",
       "      <td>NaN</td>\n",
       "      <td>1.0</td>\n",
       "      <td>2.0</td>\n",
       "      <td>22</td>\n",
       "      <td>0.082927</td>\n",
       "      <td>0.027572</td>\n",
       "      <td>0.027778</td>\n",
       "    </tr>\n",
       "    <tr>\n",
       "      <th>1</th>\n",
       "      <td>34176</td>\n",
       "      <td>121</td>\n",
       "      <td>0.0</td>\n",
       "      <td>train</td>\n",
       "      <td>6</td>\n",
       "      <td>0</td>\n",
       "      <td>451</td>\n",
       "      <td>256</td>\n",
       "      <td>45</td>\n",
       "      <td>109</td>\n",
       "      <td>108</td>\n",
       "      <td>174</td>\n",
       "      <td>410.0</td>\n",
       "      <td>NaN</td>\n",
       "      <td>34.0</td>\n",
       "      <td>7.0</td>\n",
       "      <td>79865</td>\n",
       "      <td>10931</td>\n",
       "      <td>1179</td>\n",
       "      <td>26</td>\n",
       "      <td>2</td>\n",
       "      <td>72265.0</td>\n",
       "      <td>121.0</td>\n",
       "      <td>4780.0</td>\n",
       "      <td>2699.0</td>\n",
       "      <td>817.0</td>\n",
       "      <td>14</td>\n",
       "      <td>1</td>\n",
       "      <td>1</td>\n",
       "      <td>1</td>\n",
       "      <td>13.0</td>\n",
       "      <td>NaN</td>\n",
       "      <td>1.0</td>\n",
       "      <td>NaN</td>\n",
       "      <td>3</td>\n",
       "      <td>0.082927</td>\n",
       "      <td>0.066145</td>\n",
       "      <td>0.076923</td>\n",
       "    </tr>\n",
       "    <tr>\n",
       "      <th>2</th>\n",
       "      <td>34176</td>\n",
       "      <td>4356</td>\n",
       "      <td>1.0</td>\n",
       "      <td>train</td>\n",
       "      <td>6</td>\n",
       "      <td>0</td>\n",
       "      <td>451</td>\n",
       "      <td>256</td>\n",
       "      <td>45</td>\n",
       "      <td>109</td>\n",
       "      <td>108</td>\n",
       "      <td>174</td>\n",
       "      <td>410.0</td>\n",
       "      <td>NaN</td>\n",
       "      <td>34.0</td>\n",
       "      <td>7.0</td>\n",
       "      <td>7269</td>\n",
       "      <td>2281</td>\n",
       "      <td>67</td>\n",
       "      <td>15</td>\n",
       "      <td>2</td>\n",
       "      <td>6094.0</td>\n",
       "      <td>16.0</td>\n",
       "      <td>963.0</td>\n",
       "      <td>196.0</td>\n",
       "      <td>36.0</td>\n",
       "      <td>18</td>\n",
       "      <td>2</td>\n",
       "      <td>1</td>\n",
       "      <td>1</td>\n",
       "      <td>12.0</td>\n",
       "      <td>NaN</td>\n",
       "      <td>6.0</td>\n",
       "      <td>NaN</td>\n",
       "      <td>1</td>\n",
       "      <td>0.082927</td>\n",
       "      <td>0.158024</td>\n",
       "      <td>0.500000</td>\n",
       "    </tr>\n",
       "    <tr>\n",
       "      <th>3</th>\n",
       "      <td>34176</td>\n",
       "      <td>2217</td>\n",
       "      <td>0.0</td>\n",
       "      <td>train</td>\n",
       "      <td>6</td>\n",
       "      <td>0</td>\n",
       "      <td>451</td>\n",
       "      <td>256</td>\n",
       "      <td>45</td>\n",
       "      <td>109</td>\n",
       "      <td>108</td>\n",
       "      <td>174</td>\n",
       "      <td>410.0</td>\n",
       "      <td>NaN</td>\n",
       "      <td>34.0</td>\n",
       "      <td>7.0</td>\n",
       "      <td>60202</td>\n",
       "      <td>16870</td>\n",
       "      <td>377</td>\n",
       "      <td>5</td>\n",
       "      <td>2</td>\n",
       "      <td>52230.0</td>\n",
       "      <td>101.0</td>\n",
       "      <td>3721.0</td>\n",
       "      <td>4150.0</td>\n",
       "      <td>1100.0</td>\n",
       "      <td>2</td>\n",
       "      <td>1</td>\n",
       "      <td>1</td>\n",
       "      <td>1</td>\n",
       "      <td>1.0</td>\n",
       "      <td>NaN</td>\n",
       "      <td>1.0</td>\n",
       "      <td>NaN</td>\n",
       "      <td>0</td>\n",
       "      <td>0.082927</td>\n",
       "      <td>0.071243</td>\n",
       "      <td>1.000000</td>\n",
       "    </tr>\n",
       "    <tr>\n",
       "      <th>4</th>\n",
       "      <td>230784</td>\n",
       "      <td>4818</td>\n",
       "      <td>0.0</td>\n",
       "      <td>train</td>\n",
       "      <td>0</td>\n",
       "      <td>0</td>\n",
       "      <td>54</td>\n",
       "      <td>31</td>\n",
       "      <td>17</td>\n",
       "      <td>20</td>\n",
       "      <td>19</td>\n",
       "      <td>163</td>\n",
       "      <td>47.0</td>\n",
       "      <td>NaN</td>\n",
       "      <td>7.0</td>\n",
       "      <td>NaN</td>\n",
       "      <td>48089</td>\n",
       "      <td>7500</td>\n",
       "      <td>461</td>\n",
       "      <td>27</td>\n",
       "      <td>2</td>\n",
       "      <td>43268.0</td>\n",
       "      <td>129.0</td>\n",
       "      <td>2733.0</td>\n",
       "      <td>1959.0</td>\n",
       "      <td>525.0</td>\n",
       "      <td>8</td>\n",
       "      <td>1</td>\n",
       "      <td>1</td>\n",
       "      <td>1</td>\n",
       "      <td>7.0</td>\n",
       "      <td>NaN</td>\n",
       "      <td>1.0</td>\n",
       "      <td>NaN</td>\n",
       "      <td>3</td>\n",
       "      <td>0.148936</td>\n",
       "      <td>0.063164</td>\n",
       "      <td>0.142857</td>\n",
       "    </tr>\n",
       "    <tr>\n",
       "      <th>...</th>\n",
       "      <td>...</td>\n",
       "      <td>...</td>\n",
       "      <td>...</td>\n",
       "      <td>...</td>\n",
       "      <td>...</td>\n",
       "      <td>...</td>\n",
       "      <td>...</td>\n",
       "      <td>...</td>\n",
       "      <td>...</td>\n",
       "      <td>...</td>\n",
       "      <td>...</td>\n",
       "      <td>...</td>\n",
       "      <td>...</td>\n",
       "      <td>...</td>\n",
       "      <td>...</td>\n",
       "      <td>...</td>\n",
       "      <td>...</td>\n",
       "      <td>...</td>\n",
       "      <td>...</td>\n",
       "      <td>...</td>\n",
       "      <td>...</td>\n",
       "      <td>...</td>\n",
       "      <td>...</td>\n",
       "      <td>...</td>\n",
       "      <td>...</td>\n",
       "      <td>...</td>\n",
       "      <td>...</td>\n",
       "      <td>...</td>\n",
       "      <td>...</td>\n",
       "      <td>...</td>\n",
       "      <td>...</td>\n",
       "      <td>...</td>\n",
       "      <td>...</td>\n",
       "      <td>...</td>\n",
       "      <td>...</td>\n",
       "      <td>...</td>\n",
       "      <td>...</td>\n",
       "      <td>...</td>\n",
       "    </tr>\n",
       "    <tr>\n",
       "      <th>522336</th>\n",
       "      <td>228479</td>\n",
       "      <td>3111</td>\n",
       "      <td>nan</td>\n",
       "      <td>test</td>\n",
       "      <td>6</td>\n",
       "      <td>0</td>\n",
       "      <td>2004</td>\n",
       "      <td>1173</td>\n",
       "      <td>71</td>\n",
       "      <td>278</td>\n",
       "      <td>282</td>\n",
       "      <td>184</td>\n",
       "      <td>1770.0</td>\n",
       "      <td>NaN</td>\n",
       "      <td>26.0</td>\n",
       "      <td>208.0</td>\n",
       "      <td>10105</td>\n",
       "      <td>4154</td>\n",
       "      <td>542</td>\n",
       "      <td>50</td>\n",
       "      <td>18</td>\n",
       "      <td>8997.0</td>\n",
       "      <td>9.0</td>\n",
       "      <td>687.0</td>\n",
       "      <td>412.0</td>\n",
       "      <td>66.0</td>\n",
       "      <td>5</td>\n",
       "      <td>2</td>\n",
       "      <td>1</td>\n",
       "      <td>1</td>\n",
       "      <td>4.0</td>\n",
       "      <td>NaN</td>\n",
       "      <td>1.0</td>\n",
       "      <td>NaN</td>\n",
       "      <td>1</td>\n",
       "      <td>0.014689</td>\n",
       "      <td>0.076359</td>\n",
       "      <td>0.250000</td>\n",
       "    </tr>\n",
       "    <tr>\n",
       "      <th>522337</th>\n",
       "      <td>97919</td>\n",
       "      <td>2341</td>\n",
       "      <td>nan</td>\n",
       "      <td>test</td>\n",
       "      <td>8</td>\n",
       "      <td>1</td>\n",
       "      <td>55</td>\n",
       "      <td>29</td>\n",
       "      <td>14</td>\n",
       "      <td>17</td>\n",
       "      <td>17</td>\n",
       "      <td>138</td>\n",
       "      <td>46.0</td>\n",
       "      <td>NaN</td>\n",
       "      <td>8.0</td>\n",
       "      <td>1.0</td>\n",
       "      <td>5543</td>\n",
       "      <td>1592</td>\n",
       "      <td>352</td>\n",
       "      <td>93</td>\n",
       "      <td>19</td>\n",
       "      <td>4548.0</td>\n",
       "      <td>6.0</td>\n",
       "      <td>815.0</td>\n",
       "      <td>174.0</td>\n",
       "      <td>84.0</td>\n",
       "      <td>2</td>\n",
       "      <td>1</td>\n",
       "      <td>1</td>\n",
       "      <td>1</td>\n",
       "      <td>1.0</td>\n",
       "      <td>NaN</td>\n",
       "      <td>1.0</td>\n",
       "      <td>NaN</td>\n",
       "      <td>0</td>\n",
       "      <td>0.173913</td>\n",
       "      <td>0.179200</td>\n",
       "      <td>1.000000</td>\n",
       "    </tr>\n",
       "    <tr>\n",
       "      <th>522338</th>\n",
       "      <td>97919</td>\n",
       "      <td>3971</td>\n",
       "      <td>nan</td>\n",
       "      <td>test</td>\n",
       "      <td>8</td>\n",
       "      <td>1</td>\n",
       "      <td>55</td>\n",
       "      <td>29</td>\n",
       "      <td>14</td>\n",
       "      <td>17</td>\n",
       "      <td>17</td>\n",
       "      <td>138</td>\n",
       "      <td>46.0</td>\n",
       "      <td>NaN</td>\n",
       "      <td>8.0</td>\n",
       "      <td>1.0</td>\n",
       "      <td>28892</td>\n",
       "      <td>7587</td>\n",
       "      <td>272</td>\n",
       "      <td>7</td>\n",
       "      <td>2</td>\n",
       "      <td>24602.0</td>\n",
       "      <td>94.0</td>\n",
       "      <td>2608.0</td>\n",
       "      <td>1588.0</td>\n",
       "      <td>703.0</td>\n",
       "      <td>16</td>\n",
       "      <td>5</td>\n",
       "      <td>2</td>\n",
       "      <td>1</td>\n",
       "      <td>12.0</td>\n",
       "      <td>NaN</td>\n",
       "      <td>4.0</td>\n",
       "      <td>NaN</td>\n",
       "      <td>9</td>\n",
       "      <td>0.173913</td>\n",
       "      <td>0.106008</td>\n",
       "      <td>0.333333</td>\n",
       "    </tr>\n",
       "    <tr>\n",
       "      <th>522339</th>\n",
       "      <td>32639</td>\n",
       "      <td>3536</td>\n",
       "      <td>nan</td>\n",
       "      <td>test</td>\n",
       "      <td>0</td>\n",
       "      <td>0</td>\n",
       "      <td>72</td>\n",
       "      <td>46</td>\n",
       "      <td>24</td>\n",
       "      <td>33</td>\n",
       "      <td>35</td>\n",
       "      <td>172</td>\n",
       "      <td>62.0</td>\n",
       "      <td>1.0</td>\n",
       "      <td>8.0</td>\n",
       "      <td>1.0</td>\n",
       "      <td>14027</td>\n",
       "      <td>4956</td>\n",
       "      <td>322</td>\n",
       "      <td>19</td>\n",
       "      <td>3</td>\n",
       "      <td>12807.0</td>\n",
       "      <td>29.0</td>\n",
       "      <td>793.0</td>\n",
       "      <td>398.0</td>\n",
       "      <td>304.0</td>\n",
       "      <td>3</td>\n",
       "      <td>2</td>\n",
       "      <td>1</td>\n",
       "      <td>1</td>\n",
       "      <td>2.0</td>\n",
       "      <td>NaN</td>\n",
       "      <td>1.0</td>\n",
       "      <td>NaN</td>\n",
       "      <td>0</td>\n",
       "      <td>0.129032</td>\n",
       "      <td>0.061919</td>\n",
       "      <td>0.500000</td>\n",
       "    </tr>\n",
       "    <tr>\n",
       "      <th>522340</th>\n",
       "      <td>32639</td>\n",
       "      <td>3319</td>\n",
       "      <td>nan</td>\n",
       "      <td>test</td>\n",
       "      <td>0</td>\n",
       "      <td>0</td>\n",
       "      <td>72</td>\n",
       "      <td>46</td>\n",
       "      <td>24</td>\n",
       "      <td>33</td>\n",
       "      <td>35</td>\n",
       "      <td>172</td>\n",
       "      <td>62.0</td>\n",
       "      <td>1.0</td>\n",
       "      <td>8.0</td>\n",
       "      <td>1.0</td>\n",
       "      <td>25959</td>\n",
       "      <td>7927</td>\n",
       "      <td>952</td>\n",
       "      <td>175</td>\n",
       "      <td>85</td>\n",
       "      <td>21737.0</td>\n",
       "      <td>34.0</td>\n",
       "      <td>2700.0</td>\n",
       "      <td>1488.0</td>\n",
       "      <td>308.0</td>\n",
       "      <td>11</td>\n",
       "      <td>1</td>\n",
       "      <td>1</td>\n",
       "      <td>1</td>\n",
       "      <td>10.0</td>\n",
       "      <td>NaN</td>\n",
       "      <td>1.0</td>\n",
       "      <td>NaN</td>\n",
       "      <td>1</td>\n",
       "      <td>0.129032</td>\n",
       "      <td>0.124212</td>\n",
       "      <td>0.100000</td>\n",
       "    </tr>\n",
       "  </tbody>\n",
       "</table>\n",
       "<p>522341 rows × 38 columns</p>\n",
       "</div>"
      ],
      "text/plain": [
       "        user_id  merchant_id label origin  ...  um9        r1        r2        r3\n",
       "0         34176         3906   0.0  train  ...   22  0.082927  0.027572  0.027778\n",
       "1         34176          121   0.0  train  ...    3  0.082927  0.066145  0.076923\n",
       "2         34176         4356   1.0  train  ...    1  0.082927  0.158024  0.500000\n",
       "3         34176         2217   0.0  train  ...    0  0.082927  0.071243  1.000000\n",
       "4        230784         4818   0.0  train  ...    3  0.148936  0.063164  0.142857\n",
       "...         ...          ...   ...    ...  ...  ...       ...       ...       ...\n",
       "522336   228479         3111   nan   test  ...    1  0.014689  0.076359  0.250000\n",
       "522337    97919         2341   nan   test  ...    0  0.173913  0.179200  1.000000\n",
       "522338    97919         3971   nan   test  ...    9  0.173913  0.106008  0.333333\n",
       "522339    32639         3536   nan   test  ...    0  0.129032  0.061919  0.500000\n",
       "522340    32639         3319   nan   test  ...    1  0.129032  0.124212  0.100000\n",
       "\n",
       "[522341 rows x 38 columns]"
      ]
     },
     "execution_count": 26,
     "metadata": {},
     "output_type": "execute_result"
    }
   ],
   "source": [
    "matrix"
   ]
  },
  {
   "cell_type": "code",
   "execution_count": 27,
   "metadata": {
    "colab": {
     "base_uri": "https://localhost:8080/"
    },
    "collapsed": true,
    "executionInfo": {
     "elapsed": 11347,
     "status": "ok",
     "timestamp": 1633414484039,
     "user": {
      "displayName": "江新一",
      "photoUrl": "https://lh3.googleusercontent.com/a/default-user=s64",
      "userId": "15238058449916865557"
     },
     "user_tz": -480
    },
    "id": "dmw7rmTQCFJV",
    "outputId": "db705449-6252-4907-c027-8b6cada22565"
   },
   "outputs": [
    {
     "name": "stdout",
     "output_type": "stream",
     "text": [
      "ok\n"
     ]
    }
   ],
   "source": [
    "#保存特征数据\n",
    "matrix.to_csv('./um_features.csv', index=False)\n",
    "print(\"ok\")"
   ]
  },
  {
   "cell_type": "markdown",
   "metadata": {
    "id": "g3xQZyN8CFJV"
   },
   "source": [
    "## ？？？？？样本不均衡\n",
    "？？？？异常值\n",
    "#通过小提琴图图查看异常值，以price为例\n",
    "sns.violinplot(np.log(matrix['age_range']))\n",
    "\n",
    "项目导图\n",
    "python 数据处理 tableau 连接mysql数据库 仪表盘天猫复购用户画像 概览"
   ]
  },
  {
   "cell_type": "markdown",
   "metadata": {
    "id": "9DIpOTCBJpqg"
   },
   "source": [
    "Google全量 保存csv \n",
    "导入mysql\n",
    "tableau连接mysql 仪表盘\n",
    "-生成notebook（加思维导图，加入仪表盘demo,加2预测方法，效果截图，结论DIN效果提升，天池得分0.67，总结遇到的问题样本不均衡。。）\n",
    "\n",
    "-2notebook\n",
    "\n",
    "数据不要，tableau+3notebook等\n",
    "\n",
    "DIN原理"
   ]
  }
 ],
 "metadata": {
  "accelerator": "GPU",
  "colab": {
   "collapsed_sections": [],
   "machine_shape": "hm",
   "name": "RepeatBuyers.ipynb",
   "provenance": []
  },
  "hide_input": false,
  "kernelspec": {
   "display_name": "Python 3",
   "language": "python",
   "name": "python3"
  },
  "language_info": {
   "codemirror_mode": {
    "name": "ipython",
    "version": 3
   },
   "file_extension": ".py",
   "mimetype": "text/x-python",
   "name": "python",
   "nbconvert_exporter": "python",
   "pygments_lexer": "ipython3",
   "version": "3.6.3"
  },
  "toc": {
   "base_numbering": 1,
   "nav_menu": {},
   "number_sections": true,
   "sideBar": true,
   "skip_h1_title": false,
   "title_cell": "Table of Contents",
   "title_sidebar": "Contents",
   "toc_cell": false,
   "toc_position": {
    "height": "calc(100% - 180px)",
    "left": "10px",
    "top": "150px",
    "width": "288px"
   },
   "toc_section_display": true,
   "toc_window_display": true
  }
 },
 "nbformat": 4,
 "nbformat_minor": 1
}
